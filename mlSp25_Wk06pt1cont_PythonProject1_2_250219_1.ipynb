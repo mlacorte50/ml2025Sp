{
  "nbformat": 4,
  "nbformat_minor": 0,
  "metadata": {
    "colab": {
      "provenance": []
    },
    "kernelspec": {
      "name": "python3",
      "display_name": "Python 3"
    },
    "language_info": {
      "name": "python"
    }
  },
  "cells": [
    {
      "cell_type": "code",
      "execution_count": 1,
      "metadata": {
        "id": "W89A9omnsL3h"
      },
      "outputs": [],
      "source": [
        "#mlSp25_Wk06pt1cont_PythonProject1_2_250219_1"
      ]
    },
    {
      "cell_type": "code",
      "source": [
        "# Michael Lacorte, Python Project 1, submitted 2/25/2025"
      ],
      "metadata": {
        "id": "5SY7DSXt_kgX"
      },
      "execution_count": null,
      "outputs": []
    },
    {
      "cell_type": "markdown",
      "source": [
        "# **Python Project 1**"
      ],
      "metadata": {
        "id": "OBLnA9YgsfMV"
      }
    },
    {
      "cell_type": "markdown",
      "source": [
        "Goal:  *Analyze student test performance by comparing any two NYC schools/districts/boroughs*"
      ],
      "metadata": {
        "id": "jutOEzrIsqzO"
      }
    },
    {
      "cell_type": "code",
      "source": [
        "import pandas as pd\n",
        "import numpy as np\n",
        "import matplotlib.pyplot as plt"
      ],
      "metadata": {
        "id": "Kr2SBOVAsSjG"
      },
      "execution_count": 28,
      "outputs": []
    },
    {
      "cell_type": "code",
      "source": [
        "#Use a NYC education dataset:\n",
        "df=pd.read_csv(\"https://raw.githubusercontent.com/CunyLaguardiaDataAnalytics/datasets/master/2014-15_To_2016-17_School-_Level_NYC_Regents_Report_For_All_Variables.csv\")"
      ],
      "metadata": {
        "id": "GOPaWyiVtMOn"
      },
      "execution_count": 3,
      "outputs": []
    },
    {
      "cell_type": "code",
      "source": [],
      "metadata": {
        "id": "lVOt0EPnteaY"
      },
      "execution_count": null,
      "outputs": []
    },
    {
      "cell_type": "markdown",
      "source": [
        "Below compares \"Mean Scores\" of high schools' \"Common Core Algebra Regents Exams\" from the year 2017 between the boroughs of **Bronx** and **Queens**."
      ],
      "metadata": {
        "id": "m8r0al8ity4Q"
      }
    },
    {
      "cell_type": "markdown",
      "source": [
        "**Step 1:**  Start with the borough of Bronx."
      ],
      "metadata": {
        "id": "L12mlPI6wuff"
      }
    },
    {
      "cell_type": "code",
      "source": [
        "# Count number of schools in Bronx Borough:\n",
        "dfBronx = df[df['School DBN'].str.contains('X')]\n",
        "dfBronx['Mean Score'].count()"
      ],
      "metadata": {
        "colab": {
          "base_uri": "https://localhost:8080/"
        },
        "id": "-5triak4teF3",
        "outputId": "7d82c840-493c-420b-c5c0-6add7bb6cd81"
      },
      "execution_count": 12,
      "outputs": [
        {
          "output_type": "execute_result",
          "data": {
            "text/plain": [
              "54051"
            ]
          },
          "metadata": {},
          "execution_count": 12
        }
      ]
    },
    {
      "cell_type": "code",
      "source": [
        "# Find number of \"Mean Scores\" of Bronx high schools' \"Common Core Algebra Regents Exams\" from the year 2017\n",
        "# (Includes \"Mean Scores\" with 's'):\n",
        "dfBronx_HsCca2017=dfBronx[(dfBronx['School Level']=='High school') & (dfBronx['Regents Exam']=='Common Core Algebra') & (dfBronx['Year']==2017)]\n",
        "dfBronx_HsCca2017['Mean Score'].count()"
      ],
      "metadata": {
        "colab": {
          "base_uri": "https://localhost:8080/"
        },
        "id": "GCN33URYujwC",
        "outputId": "7eb2bd60-5051-4948-a722-c1d96f45bdeb"
      },
      "execution_count": 13,
      "outputs": [
        {
          "output_type": "execute_result",
          "data": {
            "text/plain": [
              "1409"
            ]
          },
          "metadata": {},
          "execution_count": 13
        }
      ]
    },
    {
      "cell_type": "code",
      "source": [
        "# Replace \"Mean Scores\" with 's' with NaN's:\n",
        "dfBronx_HsCca2017['Mean Score'].replace('s', np.nan, inplace=True)"
      ],
      "metadata": {
        "colab": {
          "base_uri": "https://localhost:8080/"
        },
        "id": "o3MxuZU9vId7",
        "outputId": "42ed24b9-0a63-42a1-d046-acffbabe67d6"
      },
      "execution_count": 14,
      "outputs": [
        {
          "output_type": "stream",
          "name": "stderr",
          "text": [
            "<ipython-input-14-ec95d951b2d7>:2: FutureWarning: A value is trying to be set on a copy of a DataFrame or Series through chained assignment using an inplace method.\n",
            "The behavior will change in pandas 3.0. This inplace method will never work because the intermediate object on which we are setting values always behaves as a copy.\n",
            "\n",
            "For example, when doing 'df[col].method(value, inplace=True)', try using 'df.method({col: value}, inplace=True)' or df[col] = df[col].method(value) instead, to perform the operation inplace on the original object.\n",
            "\n",
            "\n",
            "  dfBronx_HsCca2017['Mean Score'].replace('s', np.nan, inplace=True)\n",
            "<ipython-input-14-ec95d951b2d7>:2: SettingWithCopyWarning: \n",
            "A value is trying to be set on a copy of a slice from a DataFrame\n",
            "\n",
            "See the caveats in the documentation: https://pandas.pydata.org/pandas-docs/stable/user_guide/indexing.html#returning-a-view-versus-a-copy\n",
            "  dfBronx_HsCca2017['Mean Score'].replace('s', np.nan, inplace=True)\n"
          ]
        }
      ]
    },
    {
      "cell_type": "code",
      "source": [
        "# To calculate the Average, first make all \"Mean Scores\" numeric:\n",
        "dfBronx_HsCca2017['Mean Score']=pd.to_numeric(dfBronx_HsCca2017['Mean Score'], errors='coerce')"
      ],
      "metadata": {
        "colab": {
          "base_uri": "https://localhost:8080/"
        },
        "id": "OjB4u7h5vesM",
        "outputId": "fb41e171-b65f-4d1a-9d94-717969819879"
      },
      "execution_count": 15,
      "outputs": [
        {
          "output_type": "stream",
          "name": "stderr",
          "text": [
            "<ipython-input-15-f9cdb2a477c3>:2: SettingWithCopyWarning: \n",
            "A value is trying to be set on a copy of a slice from a DataFrame.\n",
            "Try using .loc[row_indexer,col_indexer] = value instead\n",
            "\n",
            "See the caveats in the documentation: https://pandas.pydata.org/pandas-docs/stable/user_guide/indexing.html#returning-a-view-versus-a-copy\n",
            "  dfBronx_HsCca2017['Mean Score']=pd.to_numeric(dfBronx_HsCca2017['Mean Score'], errors='coerce')\n"
          ]
        }
      ]
    },
    {
      "cell_type": "code",
      "source": [
        "# Counts number of Bronx \"Mean Scores\"\n",
        "# (EXCLUDES NaN's):\n",
        "dfBronx_HsCca2017['Mean Score'].count()"
      ],
      "metadata": {
        "colab": {
          "base_uri": "https://localhost:8080/"
        },
        "id": "QV4RENmpv2iN",
        "outputId": "d81cc7d2-7c15-48a3-9fd8-a7b9aea460f5"
      },
      "execution_count": 16,
      "outputs": [
        {
          "output_type": "execute_result",
          "data": {
            "text/plain": [
              "1090"
            ]
          },
          "metadata": {},
          "execution_count": 16
        }
      ]
    },
    {
      "cell_type": "code",
      "source": [
        "# Calculates the Average of Bronx \"Mean Scores\"\n",
        "# (EXCLUDES NaN's):\n",
        "dfBronx_HsCca2017['Mean Score'].mean()"
      ],
      "metadata": {
        "colab": {
          "base_uri": "https://localhost:8080/"
        },
        "id": "KNKwNSKHwEg9",
        "outputId": "590d0af1-3a32-453a-deb5-277109fbe1e7"
      },
      "execution_count": 17,
      "outputs": [
        {
          "output_type": "execute_result",
          "data": {
            "text/plain": [
              "63.587247706422026"
            ]
          },
          "metadata": {},
          "execution_count": 17
        }
      ]
    },
    {
      "cell_type": "code",
      "source": [],
      "metadata": {
        "id": "qIaSoZXUwbnu"
      },
      "execution_count": null,
      "outputs": []
    },
    {
      "cell_type": "code",
      "source": [],
      "metadata": {
        "id": "QsZrN-vpw29u"
      },
      "execution_count": null,
      "outputs": []
    },
    {
      "cell_type": "code",
      "source": [],
      "metadata": {
        "id": "vGqx6Lwiw26v"
      },
      "execution_count": null,
      "outputs": []
    },
    {
      "cell_type": "markdown",
      "source": [
        "**Step 2:**  Repeat the process with the borough of Queens."
      ],
      "metadata": {
        "id": "HOoDJOtTwc-H"
      }
    },
    {
      "cell_type": "code",
      "source": [
        "# Count number of schools in Queens Borough:\n",
        "dfQueens = df[df['School DBN'].str.contains('Q')]\n",
        "dfQueens['Mean Score'].count()"
      ],
      "metadata": {
        "colab": {
          "base_uri": "https://localhost:8080/"
        },
        "id": "SOBRmNIbwbkW",
        "outputId": "86700ee5-c5b4-4983-ad69-a1acdca688b0"
      },
      "execution_count": 18,
      "outputs": [
        {
          "output_type": "execute_result",
          "data": {
            "text/plain": [
              "39633"
            ]
          },
          "metadata": {},
          "execution_count": 18
        }
      ]
    },
    {
      "cell_type": "code",
      "source": [
        "# Find number of \"Mean Scores\" of Queens high schools' \"Common Core Algebra Regents Exams\" from the year 2017\n",
        "# (Includes \"Mean Scores\" with 's'):\n",
        "dfQueens_HsCca2017=dfQueens[(dfQueens['School Level']=='High school') & (dfQueens['Regents Exam']=='Common Core Algebra') & (dfQueens['Year']==2017)]\n",
        "dfQueens_HsCca2017['Mean Score'].count()"
      ],
      "metadata": {
        "colab": {
          "base_uri": "https://localhost:8080/"
        },
        "id": "kpo8xyLPwZEd",
        "outputId": "bcb83101-9ef8-4d02-f4ad-8724337567f6"
      },
      "execution_count": 19,
      "outputs": [
        {
          "output_type": "execute_result",
          "data": {
            "text/plain": [
              "894"
            ]
          },
          "metadata": {},
          "execution_count": 19
        }
      ]
    },
    {
      "cell_type": "code",
      "source": [
        "# Replace \"Mean Scores\" with 's' with NaN's:\n",
        "dfQueens_HsCca2017['Mean Score'].replace('s', np.nan, inplace=True)"
      ],
      "metadata": {
        "colab": {
          "base_uri": "https://localhost:8080/"
        },
        "id": "ocMdR3_kxKuB",
        "outputId": "70293147-5ecc-4d18-e408-f248ded592b3"
      },
      "execution_count": 20,
      "outputs": [
        {
          "output_type": "stream",
          "name": "stderr",
          "text": [
            "<ipython-input-20-e34c71fac86e>:2: FutureWarning: A value is trying to be set on a copy of a DataFrame or Series through chained assignment using an inplace method.\n",
            "The behavior will change in pandas 3.0. This inplace method will never work because the intermediate object on which we are setting values always behaves as a copy.\n",
            "\n",
            "For example, when doing 'df[col].method(value, inplace=True)', try using 'df.method({col: value}, inplace=True)' or df[col] = df[col].method(value) instead, to perform the operation inplace on the original object.\n",
            "\n",
            "\n",
            "  dfQueens_HsCca2017['Mean Score'].replace('s', np.nan, inplace=True)\n",
            "<ipython-input-20-e34c71fac86e>:2: SettingWithCopyWarning: \n",
            "A value is trying to be set on a copy of a slice from a DataFrame\n",
            "\n",
            "See the caveats in the documentation: https://pandas.pydata.org/pandas-docs/stable/user_guide/indexing.html#returning-a-view-versus-a-copy\n",
            "  dfQueens_HsCca2017['Mean Score'].replace('s', np.nan, inplace=True)\n"
          ]
        }
      ]
    },
    {
      "cell_type": "code",
      "source": [
        "# To calculate the Average, first make all \"Mean Scores\" numeric:\n",
        "dfQueens_HsCca2017['Mean Score']=pd.to_numeric(dfQueens_HsCca2017['Mean Score'], errors='coerce')"
      ],
      "metadata": {
        "colab": {
          "base_uri": "https://localhost:8080/"
        },
        "id": "0oC2dxHDxKpY",
        "outputId": "20963f46-c3e7-4ae7-b1a4-239c933e265b"
      },
      "execution_count": 21,
      "outputs": [
        {
          "output_type": "stream",
          "name": "stderr",
          "text": [
            "<ipython-input-21-081286c16e5c>:2: SettingWithCopyWarning: \n",
            "A value is trying to be set on a copy of a slice from a DataFrame.\n",
            "Try using .loc[row_indexer,col_indexer] = value instead\n",
            "\n",
            "See the caveats in the documentation: https://pandas.pydata.org/pandas-docs/stable/user_guide/indexing.html#returning-a-view-versus-a-copy\n",
            "  dfQueens_HsCca2017['Mean Score']=pd.to_numeric(dfQueens_HsCca2017['Mean Score'], errors='coerce')\n"
          ]
        }
      ]
    },
    {
      "cell_type": "code",
      "source": [
        "# Counts number of Queens \"Mean Scores\"\n",
        "# (EXCLUDES NaN's):\n",
        "dfQueens_HsCca2017['Mean Score'].count()"
      ],
      "metadata": {
        "colab": {
          "base_uri": "https://localhost:8080/"
        },
        "id": "-Uo2q2VUxKmY",
        "outputId": "2e6a96b4-e450-4062-c759-ae09240111de"
      },
      "execution_count": 22,
      "outputs": [
        {
          "output_type": "execute_result",
          "data": {
            "text/plain": [
              "737"
            ]
          },
          "metadata": {},
          "execution_count": 22
        }
      ]
    },
    {
      "cell_type": "code",
      "source": [
        "# Calculates the Average of Queens \"Mean Scores\"\n",
        "# (EXCLUDES NaN's):\n",
        "dfQueens_HsCca2017['Mean Score'].mean()"
      ],
      "metadata": {
        "colab": {
          "base_uri": "https://localhost:8080/"
        },
        "id": "cE__fr3yxKjg",
        "outputId": "cf2a1e86-5806-4cc1-82b5-03c1f1b4df90"
      },
      "execution_count": 23,
      "outputs": [
        {
          "output_type": "execute_result",
          "data": {
            "text/plain": [
              "68.23161465400271"
            ]
          },
          "metadata": {},
          "execution_count": 23
        }
      ]
    },
    {
      "cell_type": "code",
      "source": [],
      "metadata": {
        "id": "j07W6Um6xKgQ"
      },
      "execution_count": null,
      "outputs": []
    },
    {
      "cell_type": "code",
      "source": [],
      "metadata": {
        "id": "gFirRiroxKWw"
      },
      "execution_count": null,
      "outputs": []
    },
    {
      "cell_type": "markdown",
      "source": [
        "**Step 3:**  Analyze Bronx versus Queens via plots of \"Mean Scores\" of \"high schools' \"Common Core Algebra Regents Exams\" from the year 2017\""
      ],
      "metadata": {
        "id": "fvmaUpdNy90M"
      }
    },
    {
      "cell_type": "code",
      "source": [
        "dfBronx_HsCca2017['Mean Score'].plot(kind='hist', bins=50, color='red', title='Bronx HS CCAlg Mean Scores, 2017')"
      ],
      "metadata": {
        "colab": {
          "base_uri": "https://localhost:8080/",
          "height": 469
        },
        "id": "tBZHmTru4q3I",
        "outputId": "5e805c26-991c-4734-fc8b-7c44fb3121b9"
      },
      "execution_count": 46,
      "outputs": [
        {
          "output_type": "execute_result",
          "data": {
            "text/plain": [
              "<Axes: title={'center': 'Bronx HS CCAlg Mean Scores, 2017'}, ylabel='Frequency'>"
            ]
          },
          "metadata": {},
          "execution_count": 46
        },
        {
          "output_type": "display_data",
          "data": {
            "text/plain": [
              "<Figure size 640x480 with 1 Axes>"
            ],
            "image/png": "[encoded data removed]"
          },
          "metadata": {}
        }
      ]
    },
    {
      "cell_type": "code",
      "source": [
        "dfQueens_HsCca2017['Mean Score'].plot(kind='hist', bins=50, color='blue', title='Queens HS CCAlg Mean Scores, 2017')"
      ],
      "metadata": {
        "colab": {
          "base_uri": "https://localhost:8080/",
          "height": 469
        },
        "id": "V7mUoP335TTR",
        "outputId": "7acf27a5-866e-428f-93af-62756aaf9af5"
      },
      "execution_count": 47,
      "outputs": [
        {
          "output_type": "execute_result",
          "data": {
            "text/plain": [
              "<Axes: title={'center': 'Queens HS CCAlg Mean Scores, 2017'}, ylabel='Frequency'>"
            ]
          },
          "metadata": {},
          "execution_count": 47
        },
        {
          "output_type": "display_data",
          "data": {
            "text/plain": [
              "<Figure size 640x480 with 1 Axes>"
            ],
            "image/png": "[encoded data removed]"
          },
          "metadata": {}
        }
      ]
    },
    {
      "cell_type": "code",
      "source": [
        "dfBronx_HsCca2017['Mean Score'].plot(kind='hist', bins=50, color='red')\n",
        "dfQueens_HsCca2017['Mean Score'].plot(kind='hist', bins=50, color='blue')"
      ],
      "metadata": {
        "colab": {
          "base_uri": "https://localhost:8080/",
          "height": 447
        },
        "id": "mTu3ZCBI5THp",
        "outputId": "582aa1d2-9214-411e-fe47-00f6123009c0"
      },
      "execution_count": 37,
      "outputs": [
        {
          "output_type": "execute_result",
          "data": {
            "text/plain": [
              "<Axes: ylabel='Frequency'>"
            ]
          },
          "metadata": {},
          "execution_count": 37
        },
        {
          "output_type": "display_data",
          "data": {
            "text/plain": [
              "<Figure size 640x480 with 1 Axes>"
            ],
            "image/png": "[encoded data removed]"
          },
          "metadata": {}
        }
      ]
    },
    {
      "cell_type": "code",
      "source": [],
      "metadata": {
        "id": "qO3X_TCo2CjK"
      },
      "execution_count": null,
      "outputs": []
    },
    {
      "cell_type": "code",
      "source": [
        "dfBronx_HsCca2017.boxplot(column='Mean Score')"
      ],
      "metadata": {
        "colab": {
          "base_uri": "https://localhost:8080/",
          "height": 447
        },
        "id": "cvbawJwe14FR",
        "outputId": "cc3d218b-a347-4c4a-9de0-161a18ae69f6"
      },
      "execution_count": 36,
      "outputs": [
        {
          "output_type": "execute_result",
          "data": {
            "text/plain": [
              "<Axes: >"
            ]
          },
          "metadata": {},
          "execution_count": 36
        },
        {
          "output_type": "display_data",
          "data": {
            "text/plain": [
              "<Figure size 640x480 with 1 Axes>"
            ],
            "image/png": "[encoded data removed]"
          },
          "metadata": {}
        }
      ]
    },
    {
      "cell_type": "code",
      "source": [
        "dfQueens_HsCca2017.boxplot(column='Mean Score')"
      ],
      "metadata": {
        "colab": {
          "base_uri": "https://localhost:8080/",
          "height": 447
        },
        "id": "8ML9Tj7D3iT-",
        "outputId": "276005ec-c4b4-4696-88ab-3a2d4264da29"
      },
      "execution_count": 30,
      "outputs": [
        {
          "output_type": "execute_result",
          "data": {
            "text/plain": [
              "<Axes: >"
            ]
          },
          "metadata": {},
          "execution_count": 30
        },
        {
          "output_type": "display_data",
          "data": {
            "text/plain": [
              "<Figure size 640x480 with 1 Axes>"
            ],
            "image/png": "[encoded data removed]"
          },
          "metadata": {}
        }
      ]
    },
    {
      "cell_type": "code",
      "source": [
        "dfBronx_HsCca2017.boxplot(column='Mean Score')\n",
        "dfQueens_HsCca2017.boxplot(column='Mean Score')"
      ],
      "metadata": {
        "colab": {
          "base_uri": "https://localhost:8080/",
          "height": 447
        },
        "id": "twFVVQw53t79",
        "outputId": "527577f8-39ad-474a-a477-311ad07e217f"
      },
      "execution_count": 31,
      "outputs": [
        {
          "output_type": "execute_result",
          "data": {
            "text/plain": [
              "<Axes: >"
            ]
          },
          "metadata": {},
          "execution_count": 31
        },
        {
          "output_type": "display_data",
          "data": {
            "text/plain": [
              "<Figure size 640x480 with 1 Axes>"
            ],
            "image/png": "[encoded data removed]"
          },
          "metadata": {}
        }
      ]
    },
    {
      "cell_type": "code",
      "source": [],
      "metadata": {
        "id": "cfGVdRbzz59-"
      },
      "execution_count": null,
      "outputs": []
    },
    {
      "cell_type": "markdown",
      "source": [
        "Conclusions:  Regarding Bronx and Queens \"Common Core Algebra Regents Exams\" from the year 2017\" (excluding NaN's),\n",
        "\n",
        "\n",
        "(1) Bronx's count of 1090 high schools' Mean Score values was larger than Queens's count of 737 high schools' Mean Score values,\n",
        "\n",
        "(2) Bronx's high school students averaged a Mean Score of 63.59, which was less than Queens's high school students' average Mean Score of 68.23, and\n",
        "\n",
        "(3) Bronx's students and Queens' students are similar in that the histograms and boxplots of both show very similar shapes of symmetric and even normal distribution, with Bronx's distribution noticably taller than that of Queens'.\n",
        "\n"
      ],
      "metadata": {
        "id": "3xI58sffz8F9"
      }
    }
  ]
}