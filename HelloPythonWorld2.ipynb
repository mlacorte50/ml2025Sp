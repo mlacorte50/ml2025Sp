{
  "nbformat": 4,
  "nbformat_minor": 0,
  "metadata": {
    "colab": {
      "provenance": []
    },
    "kernelspec": {
      "name": "python3",
      "display_name": "Python 3"
    },
    "language_info": {
      "name": "python"
    }
  },
  "cells": [
    {
      "cell_type": "code",
      "execution_count": 1,
      "metadata": {
        "id": "nEtQC-ZQZ5nM"
      },
      "outputs": [],
      "source": [
        "#HelloPythonWorld2"
      ]
    },
    {
      "cell_type": "code",
      "source": [
        "print('Hello, Python World 2!!')"
      ],
      "metadata": {
        "colab": {
          "base_uri": "https://localhost:8080/"
        },
        "id": "RjG8ZLnoZ8SU",
        "outputId": "a7291435-6253-4be3-9a3e-1f7606dd6c50"
      },
      "execution_count": 2,
      "outputs": [
        {
          "output_type": "stream",
          "name": "stdout",
          "text": [
            "Hello, Python World 2!!\n"
          ]
        }
      ]
    },
    {
      "cell_type": "code",
      "source": [],
      "metadata": {
        "id": "iUn6AMTlaAGj"
      },
      "execution_count": null,
      "outputs": []
    }
  ]
}