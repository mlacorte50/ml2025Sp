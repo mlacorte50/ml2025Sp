{
  "nbformat": 4,
  "nbformat_minor": 0,
  "metadata": {
    "colab": {
      "provenance": []
    },
    "kernelspec": {
      "name": "python3",
      "display_name": "Python 3"
    },
    "language_info": {
      "name": "python"
    }
  },
  "cells": [
    {
      "cell_type": "code",
      "execution_count": null,
      "metadata": {
        "id": "L9pw-ZgvwrxY"
      },
      "outputs": [],
      "source": [
        "#HelloPythonWorld"
      ]
    },
    {
      "cell_type": "code",
      "source": [
        "print('Hello, Python World!')"
      ],
      "metadata": {
        "colab": {
          "base_uri": "https://localhost:8080/"
        },
        "id": "1LAN0bqOwweE",
        "outputId": "1e4606d1-5ff6-4396-827b-8064304a4fa1"
      },
      "execution_count": null,
      "outputs": [
        {
          "output_type": "stream",
          "name": "stdout",
          "text": [
            "Hello, Python World!\n"
          ]
        }
      ]
    },
    {
      "cell_type": "code",
      "source": [],
      "metadata": {
        "id": "7pkuQsxRw0cN"
      },
      "execution_count": null,
      "outputs": []
    }
  ]
}